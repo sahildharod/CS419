{
 "cells": [
  {
   "cell_type": "code",
   "execution_count": 1,
   "metadata": {},
   "outputs": [],
   "source": [
    "import pandas as pd\n",
    "import numpy as np\n",
    "from sklearn.metrics.pairwise import cosine_similarity\n",
    "import seaborn as sns\n",
    "from sklearn.feature_extraction.text import CountVectorizer\n",
    "from sklearn.gaussian_process.kernels import RBF\n",
    "from ast import literal_eval\n",
    "import warnings; warnings.simplefilter('ignore')\n",
    "from sklearn.feature_extraction.text import TfidfVectorizer, CountVectorizer"
   ]
  },
  {
   "cell_type": "code",
   "execution_count": 2,
   "metadata": {},
   "outputs": [],
   "source": [
    "mf = pd.read_csv(\"movies_metadata.csv\")\n",
    "rsf = pd.read_csv(\"ratings_small.csv\")\n",
    "kf = pd.read_csv(\"keywords.csv\")\n",
    "cf = pd.read_csv(\"credits.csv\")\n",
    "lsf = pd.read_csv(\"links_small.csv\")\n",
    "lsf = lsf[lsf['tmdbId'].notnull()]['tmdbId']\n",
    "rf = pd.read_csv('ratings.csv')"
   ]
  },
  {
   "cell_type": "markdown",
   "metadata": {},
   "source": [
    "## Data Cleaning"
   ]
  },
  {
   "cell_type": "code",
   "execution_count": 3,
   "metadata": {},
   "outputs": [],
   "source": [
    "mf = mf.drop(['belongs_to_collection','tagline','homepage','original_title','poster_path'],axis =1)\n",
    "mf = mf.drop([19730,29503,35587])"
   ]
  },
  {
   "cell_type": "code",
   "execution_count": 4,
   "metadata": {},
   "outputs": [],
   "source": [
    "mf[\"id\"] = mf[\"id\"].astype(int)"
   ]
  },
  {
   "cell_type": "code",
   "execution_count": 5,
   "metadata": {},
   "outputs": [
    {
     "name": "stdout",
     "output_type": "stream",
     "text": [
      "45433\n"
     ]
    },
    {
     "data": {
      "text/plain": [
       "(45429, 22)"
      ]
     },
     "execution_count": 5,
     "metadata": {},
     "output_type": "execute_result"
    }
   ],
   "source": [
    "print(mf['id'].nunique())\n",
    "mf = mf.merge(cf, on = \"id\")\n",
    "mf = mf.merge(kf, on = 'id')\n",
    "duplicate = (mf[mf['id'].duplicated()])\n",
    "duplicate\n",
    "\n",
    "mf.drop(duplicate.index, axis=0,inplace=True)\n",
    "mf = mf.dropna(subset=['title'])\n",
    "mf.shape"
   ]
  },
  {
   "cell_type": "code",
   "execution_count": 6,
   "metadata": {},
   "outputs": [
    {
     "data": {
      "text/plain": [
       "(9082, 22)"
      ]
     },
     "execution_count": 6,
     "metadata": {},
     "output_type": "execute_result"
    }
   ],
   "source": [
    "smf = mf[mf[\"id\"].isin(lsf)]\n",
    "smf.shape\n",
    "# smf[\"tagline\"] = smf[\"tagline\"].fillna(\" \")"
   ]
  },
  {
   "cell_type": "code",
   "execution_count": 7,
   "metadata": {},
   "outputs": [
    {
     "name": "stdout",
     "output_type": "stream",
     "text": [
      "<class 'pandas.core.frame.DataFrame'>\n",
      "Int64Index: 9082 entries, 0 to 41669\n",
      "Data columns (total 22 columns):\n",
      " #   Column                Non-Null Count  Dtype  \n",
      "---  ------                --------------  -----  \n",
      " 0   adult                 9082 non-null   object \n",
      " 1   budget                9082 non-null   object \n",
      " 2   genres                9082 non-null   object \n",
      " 3   id                    9082 non-null   int32  \n",
      " 4   imdb_id               9082 non-null   object \n",
      " 5   original_language     9082 non-null   object \n",
      " 6   overview              9070 non-null   object \n",
      " 7   popularity            9082 non-null   object \n",
      " 8   production_companies  9082 non-null   object \n",
      " 9   production_countries  9082 non-null   object \n",
      " 10  release_date          9082 non-null   object \n",
      " 11  revenue               9082 non-null   float64\n",
      " 12  runtime               9082 non-null   float64\n",
      " 13  spoken_languages      9082 non-null   object \n",
      " 14  status                9080 non-null   object \n",
      " 15  title                 9082 non-null   object \n",
      " 16  video                 9082 non-null   object \n",
      " 17  vote_average          9082 non-null   float64\n",
      " 18  vote_count            9082 non-null   float64\n",
      " 19  cast                  9082 non-null   object \n",
      " 20  crew                  9082 non-null   object \n",
      " 21  keywords              9082 non-null   object \n",
      "dtypes: float64(4), int32(1), object(17)\n",
      "memory usage: 1.6+ MB\n"
     ]
    }
   ],
   "source": [
    "smf.info()"
   ]
  },
  {
   "cell_type": "code",
   "execution_count": 8,
   "metadata": {},
   "outputs": [
    {
     "data": {
      "text/plain": [
       "0        3\n",
       "1        3\n",
       "2        2\n",
       "3        3\n",
       "4        1\n",
       "        ..\n",
       "40952    1\n",
       "41172    2\n",
       "41225    4\n",
       "41391    5\n",
       "41669    2\n",
       "Name: genre_size, Length: 9082, dtype: int64"
      ]
     },
     "execution_count": 8,
     "metadata": {},
     "output_type": "execute_result"
    }
   ],
   "source": [
    "smf['genres'] = smf['genres'].apply(literal_eval)\n",
    "smf['crew'] = smf['crew'].apply(literal_eval)\n",
    "smf['genre_size'] = smf['genres'].apply(lambda x:len(x))\n",
    "smf['genre_size']"
   ]
  },
  {
   "cell_type": "code",
   "execution_count": 9,
   "metadata": {},
   "outputs": [],
   "source": [
    "def get_genre(x):\n",
    "    for a in x:\n",
    "        return a['name']\n",
    "    return np.nan"
   ]
  },
  {
   "cell_type": "code",
   "execution_count": 10,
   "metadata": {},
   "outputs": [
    {
     "data": {
      "text/plain": [
       "0          [animation]\n",
       "1          [adventure]\n",
       "2            [romance]\n",
       "3             [comedy]\n",
       "4             [comedy]\n",
       "             ...      \n",
       "40952          [drama]\n",
       "41172       [thriller]\n",
       "41225      [adventure]\n",
       "41391         [action]\n",
       "41669    [documentary]\n",
       "Name: genre, Length: 9082, dtype: object"
      ]
     },
     "execution_count": 10,
     "metadata": {},
     "output_type": "execute_result"
    }
   ],
   "source": [
    "smf['genre'] = smf['genres'].apply(get_genre)\n",
    "smf['genre'] = smf['genre'].astype('str').apply(lambda x: str.lower(x.replace(\" \", \"\")))\n",
    "smf['genre'] = smf['genre'].apply(lambda x: [x])\n",
    "smf['genre']"
   ]
  },
  {
   "cell_type": "code",
   "execution_count": 11,
   "metadata": {},
   "outputs": [],
   "source": [
    "def get_director(x):\n",
    "    for a in x:\n",
    "        if a['job'] == 'Director':\n",
    "            return a['name']\n",
    "    return np.nan"
   ]
  },
  {
   "cell_type": "code",
   "execution_count": 12,
   "metadata": {},
   "outputs": [
    {
     "data": {
      "text/plain": [
       "0             [johnlasseter]\n",
       "1              [joejohnston]\n",
       "2             [howarddeutch]\n",
       "3           [forestwhitaker]\n",
       "4             [charlesshyer]\n",
       "                ...         \n",
       "40952        [greggchampion]\n",
       "41172      [tinusureshdesai]\n",
       "41225    [ashutoshgowariker]\n",
       "41391          [hideakianno]\n",
       "41669            [ronhoward]\n",
       "Name: director, Length: 9082, dtype: object"
      ]
     },
     "execution_count": 12,
     "metadata": {},
     "output_type": "execute_result"
    }
   ],
   "source": [
    "smf['director'] = smf['crew'].apply(get_director)\n",
    "smf['director'].reset_index()\n",
    "smf['director'] = smf['director'].astype('str').apply(lambda x: str.lower(x.replace(\" \", \"\")))\n",
    "smf['director'] = smf['director'].apply(lambda x: [x])\n",
    "smf['director']"
   ]
  },
  {
   "cell_type": "code",
   "execution_count": 13,
   "metadata": {},
   "outputs": [
    {
     "data": {
      "text/plain": [
       "0        [Led by Woody, Andy's toys live happily in his...\n",
       "1        [When siblings Judy and Peter discover an ench...\n",
       "2        [A family wedding reignites the ancient feud b...\n",
       "3        [Cheated on, mistreated and stepped on, the wo...\n",
       "4        [Just when George Banks has recovered from his...\n",
       "                               ...                        \n",
       "40952    [A man must cope with the loss of his wife and...\n",
       "41172    [Rustom Pavri, an honourable officer of the In...\n",
       "41225    [Village lad Sarman is drawn to big, bad Mohen...\n",
       "41391    [From the mind behind Evangelion comes a hit l...\n",
       "41669    [The band stormed Europe in 1963, and, in 1964...\n",
       "Name: overview, Length: 9082, dtype: object"
      ]
     },
     "execution_count": 13,
     "metadata": {},
     "output_type": "execute_result"
    }
   ],
   "source": [
    "smf['overview'] = smf['overview'].astype('str')\n",
    "smf['overview'] = smf['overview'].apply(lambda x: [x])\n",
    "smf['overview']\n",
    "\n",
    "# Concatenate all the converted elements into a single string"
   ]
  },
  {
   "cell_type": "code",
   "execution_count": 14,
   "metadata": {},
   "outputs": [
    {
     "data": {
      "text/plain": [
       "0        animation johnlasseter Led by Woody, Andy's to...\n",
       "1        adventure joejohnston When siblings Judy and P...\n",
       "2        romance howarddeutch A family wedding reignite...\n",
       "3        comedy forestwhitaker Cheated on, mistreated a...\n",
       "4        comedy charlesshyer Just when George Banks has...\n",
       "                               ...                        \n",
       "40952    drama greggchampion A man must cope with the l...\n",
       "41172    thriller tinusureshdesai Rustom Pavri, an hono...\n",
       "41225    adventure ashutoshgowariker Village lad Sarman...\n",
       "41391    action hideakianno From the mind behind Evange...\n",
       "41669    documentary ronhoward The band stormed Europe ...\n",
       "Name: overall, Length: 9082, dtype: object"
      ]
     },
     "execution_count": 14,
     "metadata": {},
     "output_type": "execute_result"
    }
   ],
   "source": [
    "smf['overall'] = smf['genre'] +smf['director'] + smf['overview']\n",
    "smf['overall'] = smf['overall'].apply(lambda x: ' '.join(x))\n",
    "smf['overall']"
   ]
  },
  {
   "cell_type": "code",
   "execution_count": 15,
   "metadata": {},
   "outputs": [],
   "source": [
    "tf = TfidfVectorizer(analyzer = 'word',ngram_range=(1, 2),min_df=0, stop_words='english')\n",
    "tfidf_matrix = tf.fit_transform(smf['overall'])"
   ]
  },
  {
   "cell_type": "code",
   "execution_count": 16,
   "metadata": {},
   "outputs": [
    {
     "data": {
      "text/plain": [
       "array([[1.        , 0.00707227, 0.        , ..., 0.        , 0.        ,\n",
       "        0.00477122],\n",
       "       [0.00707227, 1.        , 0.01674929, ..., 0.00262777, 0.00211113,\n",
       "        0.00414342],\n",
       "       [0.        , 0.01674929, 1.        , ..., 0.        , 0.00263269,\n",
       "        0.        ],\n",
       "       ...,\n",
       "       [0.        , 0.00262777, 0.        , ..., 1.        , 0.        ,\n",
       "        0.        ],\n",
       "       [0.        , 0.00211113, 0.00263269, ..., 0.        , 1.        ,\n",
       "        0.00173603],\n",
       "       [0.00477122, 0.00414342, 0.        , ..., 0.        , 0.00173603,\n",
       "        1.        ]])"
      ]
     },
     "execution_count": 16,
     "metadata": {},
     "output_type": "execute_result"
    }
   ],
   "source": [
    "cos_matrix1 = cosine_similarity(tfidf_matrix)\n",
    "cos_matrix1"
   ]
  },
  {
   "cell_type": "code",
   "execution_count": 17,
   "metadata": {
    "scrolled": true
   },
   "outputs": [
    {
     "name": "stdout",
     "output_type": "stream",
     "text": [
      "title\n",
      "Toy Story                                                0\n",
      "Jumanji                                                  1\n",
      "Grumpier Old Men                                         2\n",
      "Waiting to Exhale                                        3\n",
      "Father of the Bride Part II                              4\n",
      "                                                      ... \n",
      "The Last Brickmaker in America                        9077\n",
      "Rustom                                                9078\n",
      "Mohenjo Daro                                          9079\n",
      "Shin Godzilla                                         9080\n",
      "The Beatles: Eight Days a Week - The Touring Years    9081\n",
      "Length: 9082, dtype: int64\n"
     ]
    }
   ],
   "source": [
    "smf = smf.reset_index()\n",
    "titles = smf['title']\n",
    "indices = pd.Series(smf.index, index=smf['title'])\n",
    "print(indices)"
   ]
  },
  {
   "cell_type": "code",
   "execution_count": 18,
   "metadata": {},
   "outputs": [],
   "source": [
    "def get_recommendations(title, smf):\n",
    "     l1 = []\n",
    "     idx = indices[title]\n",
    "     sim_scores = list(enumerate(cos_matrix1[idx]))\n",
    "     sim_scores = sorted(sim_scores, key=lambda x: x[1], reverse=True)\n",
    "     sim_scores = sim_scores[1:31]\n",
    "     movie_indices = [i[0] for i in sim_scores]\n",
    "     l1 = list(titles.iloc[movie_indices])\n",
    "     for i in range(len(l1)):\n",
    "        smf1 = smf[smf['title'] == l1[i]]\n",
    "     smf2 = smf[smf[\"title\"].isin(l1)]\n",
    "     smf2 = smf2.sort_values(by=['vote_average'],ascending=False)\n",
    "     smf2 = smf2[[\"id\",\"title\",\"vote_average\",\"vote_count\",\"director\",\"genre\"]]  \n",
    "     return smf2"
   ]
  },
  {
   "cell_type": "code",
   "execution_count": 19,
   "metadata": {},
   "outputs": [
    {
     "data": {
      "text/html": [
       "<div>\n",
       "<style scoped>\n",
       "    .dataframe tbody tr th:only-of-type {\n",
       "        vertical-align: middle;\n",
       "    }\n",
       "\n",
       "    .dataframe tbody tr th {\n",
       "        vertical-align: top;\n",
       "    }\n",
       "\n",
       "    .dataframe thead th {\n",
       "        text-align: right;\n",
       "    }\n",
       "</style>\n",
       "<table border=\"1\" class=\"dataframe\">\n",
       "  <thead>\n",
       "    <tr style=\"text-align: right;\">\n",
       "      <th></th>\n",
       "      <th>id</th>\n",
       "      <th>title</th>\n",
       "      <th>vote_average</th>\n",
       "      <th>vote_count</th>\n",
       "      <th>director</th>\n",
       "      <th>genre</th>\n",
       "    </tr>\n",
       "  </thead>\n",
       "  <tbody>\n",
       "    <tr>\n",
       "      <th>4745</th>\n",
       "      <td>26246</td>\n",
       "      <td>Incident at Oglala</td>\n",
       "      <td>8.2</td>\n",
       "      <td>3.0</td>\n",
       "      <td>[michaelapted]</td>\n",
       "      <td>[documentary]</td>\n",
       "    </tr>\n",
       "    <tr>\n",
       "      <th>874</th>\n",
       "      <td>521</td>\n",
       "      <td>Dial M for Murder</td>\n",
       "      <td>7.9</td>\n",
       "      <td>539.0</td>\n",
       "      <td>[alfredhitchcock]</td>\n",
       "      <td>[crime]</td>\n",
       "    </tr>\n",
       "    <tr>\n",
       "      <th>3814</th>\n",
       "      <td>269</td>\n",
       "      <td>Breathless</td>\n",
       "      <td>7.7</td>\n",
       "      <td>322.0</td>\n",
       "      <td>[jean-lucgodard]</td>\n",
       "      <td>[drama]</td>\n",
       "    </tr>\n",
       "    <tr>\n",
       "      <th>3034</th>\n",
       "      <td>93</td>\n",
       "      <td>Anatomy of a Murder</td>\n",
       "      <td>7.7</td>\n",
       "      <td>207.0</td>\n",
       "      <td>[ottopreminger]</td>\n",
       "      <td>[crime]</td>\n",
       "    </tr>\n",
       "    <tr>\n",
       "      <th>2460</th>\n",
       "      <td>24226</td>\n",
       "      <td>The Verdict</td>\n",
       "      <td>7.4</td>\n",
       "      <td>132.0</td>\n",
       "      <td>[sidneylumet]</td>\n",
       "      <td>[drama]</td>\n",
       "    </tr>\n",
       "    <tr>\n",
       "      <th>5676</th>\n",
       "      <td>17801</td>\n",
       "      <td>The Letter</td>\n",
       "      <td>7.4</td>\n",
       "      <td>42.0</td>\n",
       "      <td>[williamwyler]</td>\n",
       "      <td>[crime]</td>\n",
       "    </tr>\n",
       "    <tr>\n",
       "      <th>2005</th>\n",
       "      <td>1847</td>\n",
       "      <td>The Long Goodbye</td>\n",
       "      <td>7.3</td>\n",
       "      <td>112.0</td>\n",
       "      <td>[robertaltman]</td>\n",
       "      <td>[thriller]</td>\n",
       "    </tr>\n",
       "    <tr>\n",
       "      <th>2351</th>\n",
       "      <td>32255</td>\n",
       "      <td>The Palm Beach Story</td>\n",
       "      <td>7.3</td>\n",
       "      <td>46.0</td>\n",
       "      <td>[prestonsturges]</td>\n",
       "      <td>[comedy]</td>\n",
       "    </tr>\n",
       "    <tr>\n",
       "      <th>5887</th>\n",
       "      <td>17208</td>\n",
       "      <td>Paradise Lost 2: Revelations</td>\n",
       "      <td>7.2</td>\n",
       "      <td>26.0</td>\n",
       "      <td>[joeberlinger]</td>\n",
       "      <td>[documentary]</td>\n",
       "    </tr>\n",
       "    <tr>\n",
       "      <th>5056</th>\n",
       "      <td>16227</td>\n",
       "      <td>Dark Passage</td>\n",
       "      <td>7.2</td>\n",
       "      <td>81.0</td>\n",
       "      <td>[delmerdaves]</td>\n",
       "      <td>[crime]</td>\n",
       "    </tr>\n",
       "    <tr>\n",
       "      <th>3749</th>\n",
       "      <td>9660</td>\n",
       "      <td>Operation Petticoat</td>\n",
       "      <td>6.9</td>\n",
       "      <td>62.0</td>\n",
       "      <td>[blakeedwards]</td>\n",
       "      <td>[action]</td>\n",
       "    </tr>\n",
       "    <tr>\n",
       "      <th>5657</th>\n",
       "      <td>27899</td>\n",
       "      <td>Little Caesar</td>\n",
       "      <td>6.9</td>\n",
       "      <td>63.0</td>\n",
       "      <td>[mervynleroy]</td>\n",
       "      <td>[drama]</td>\n",
       "    </tr>\n",
       "    <tr>\n",
       "      <th>849</th>\n",
       "      <td>23223</td>\n",
       "      <td>Normal Life</td>\n",
       "      <td>6.8</td>\n",
       "      <td>8.0</td>\n",
       "      <td>[johnmcnaughton]</td>\n",
       "      <td>[crime]</td>\n",
       "    </tr>\n",
       "    <tr>\n",
       "      <th>8189</th>\n",
       "      <td>97630</td>\n",
       "      <td>Zero Dark Thirty</td>\n",
       "      <td>6.7</td>\n",
       "      <td>1723.0</td>\n",
       "      <td>[kathrynbigelow]</td>\n",
       "      <td>[thriller]</td>\n",
       "    </tr>\n",
       "    <tr>\n",
       "      <th>915</th>\n",
       "      <td>31556</td>\n",
       "      <td>He Walked by Night</td>\n",
       "      <td>6.4</td>\n",
       "      <td>17.0</td>\n",
       "      <td>[anthonymann]</td>\n",
       "      <td>[drama]</td>\n",
       "    </tr>\n",
       "    <tr>\n",
       "      <th>6912</th>\n",
       "      <td>1266</td>\n",
       "      <td>Street Kings</td>\n",
       "      <td>6.3</td>\n",
       "      <td>369.0</td>\n",
       "      <td>[davidayer]</td>\n",
       "      <td>[action]</td>\n",
       "    </tr>\n",
       "    <tr>\n",
       "      <th>8533</th>\n",
       "      <td>193610</td>\n",
       "      <td>The Other Woman</td>\n",
       "      <td>6.2</td>\n",
       "      <td>1467.0</td>\n",
       "      <td>[nickcassavetes]</td>\n",
       "      <td>[comedy]</td>\n",
       "    </tr>\n",
       "    <tr>\n",
       "      <th>4975</th>\n",
       "      <td>12708</td>\n",
       "      <td>That Touch of Mink</td>\n",
       "      <td>6.2</td>\n",
       "      <td>38.0</td>\n",
       "      <td>[delbertmann]</td>\n",
       "      <td>[comedy]</td>\n",
       "    </tr>\n",
       "    <tr>\n",
       "      <th>6218</th>\n",
       "      <td>9315</td>\n",
       "      <td>Flightplan</td>\n",
       "      <td>6.1</td>\n",
       "      <td>796.0</td>\n",
       "      <td>[robertschwentke]</td>\n",
       "      <td>[thriller]</td>\n",
       "    </tr>\n",
       "    <tr>\n",
       "      <th>8278</th>\n",
       "      <td>134374</td>\n",
       "      <td>Pain &amp; Gain</td>\n",
       "      <td>6.1</td>\n",
       "      <td>1595.0</td>\n",
       "      <td>[michaelbay]</td>\n",
       "      <td>[thriller]</td>\n",
       "    </tr>\n",
       "    <tr>\n",
       "      <th>56</th>\n",
       "      <td>11359</td>\n",
       "      <td>The Indian in the Cupboard</td>\n",
       "      <td>5.9</td>\n",
       "      <td>136.0</td>\n",
       "      <td>[frankoz]</td>\n",
       "      <td>[adventure]</td>\n",
       "    </tr>\n",
       "    <tr>\n",
       "      <th>2070</th>\n",
       "      <td>49981</td>\n",
       "      <td>Goodbye Lover</td>\n",
       "      <td>5.8</td>\n",
       "      <td>11.0</td>\n",
       "      <td>[rolandjoffé]</td>\n",
       "      <td>[thriller]</td>\n",
       "    </tr>\n",
       "    <tr>\n",
       "      <th>411</th>\n",
       "      <td>4916</td>\n",
       "      <td>Guilty as Sin</td>\n",
       "      <td>5.6</td>\n",
       "      <td>21.0</td>\n",
       "      <td>[sidneylumet]</td>\n",
       "      <td>[drama]</td>\n",
       "    </tr>\n",
       "    <tr>\n",
       "      <th>7647</th>\n",
       "      <td>87387</td>\n",
       "      <td>The Agony and Ecstasy of Phil Spector</td>\n",
       "      <td>5.6</td>\n",
       "      <td>4.0</td>\n",
       "      <td>[vikramjayanti]</td>\n",
       "      <td>[documentary]</td>\n",
       "    </tr>\n",
       "    <tr>\n",
       "      <th>2859</th>\n",
       "      <td>1058</td>\n",
       "      <td>Breathless</td>\n",
       "      <td>5.6</td>\n",
       "      <td>67.0</td>\n",
       "      <td>[jimmcbride]</td>\n",
       "      <td>[action]</td>\n",
       "    </tr>\n",
       "    <tr>\n",
       "      <th>4500</th>\n",
       "      <td>6524</td>\n",
       "      <td>Life Stinks</td>\n",
       "      <td>5.5</td>\n",
       "      <td>48.0</td>\n",
       "      <td>[melbrooks]</td>\n",
       "      <td>[comedy]</td>\n",
       "    </tr>\n",
       "    <tr>\n",
       "      <th>5132</th>\n",
       "      <td>2122</td>\n",
       "      <td>The Whole Ten Yards</td>\n",
       "      <td>5.5</td>\n",
       "      <td>282.0</td>\n",
       "      <td>[howarddeutch]</td>\n",
       "      <td>[comedy]</td>\n",
       "    </tr>\n",
       "    <tr>\n",
       "      <th>1789</th>\n",
       "      <td>30815</td>\n",
       "      <td>Mortal Thoughts</td>\n",
       "      <td>5.3</td>\n",
       "      <td>43.0</td>\n",
       "      <td>[alanrudolph]</td>\n",
       "      <td>[mystery]</td>\n",
       "    </tr>\n",
       "    <tr>\n",
       "      <th>8287</th>\n",
       "      <td>82501</td>\n",
       "      <td>The Woman in the Fifth</td>\n",
       "      <td>5.0</td>\n",
       "      <td>29.0</td>\n",
       "      <td>[pawełpawlikowski]</td>\n",
       "      <td>[thriller]</td>\n",
       "    </tr>\n",
       "    <tr>\n",
       "      <th>8975</th>\n",
       "      <td>301228</td>\n",
       "      <td>Narcopolis</td>\n",
       "      <td>4.8</td>\n",
       "      <td>34.0</td>\n",
       "      <td>[justintrefgarne]</td>\n",
       "      <td>[thriller]</td>\n",
       "    </tr>\n",
       "    <tr>\n",
       "      <th>3716</th>\n",
       "      <td>40508</td>\n",
       "      <td>3 Ninjas Knuckle Up</td>\n",
       "      <td>4.2</td>\n",
       "      <td>32.0</td>\n",
       "      <td>[shinsang-ok]</td>\n",
       "      <td>[adventure]</td>\n",
       "    </tr>\n",
       "  </tbody>\n",
       "</table>\n",
       "</div>"
      ],
      "text/plain": [
       "          id                                  title  vote_average  vote_count  \\\n",
       "4745   26246                     Incident at Oglala           8.2         3.0   \n",
       "874      521                      Dial M for Murder           7.9       539.0   \n",
       "3814     269                             Breathless           7.7       322.0   \n",
       "3034      93                    Anatomy of a Murder           7.7       207.0   \n",
       "2460   24226                            The Verdict           7.4       132.0   \n",
       "5676   17801                             The Letter           7.4        42.0   \n",
       "2005    1847                       The Long Goodbye           7.3       112.0   \n",
       "2351   32255                   The Palm Beach Story           7.3        46.0   \n",
       "5887   17208           Paradise Lost 2: Revelations           7.2        26.0   \n",
       "5056   16227                           Dark Passage           7.2        81.0   \n",
       "3749    9660                    Operation Petticoat           6.9        62.0   \n",
       "5657   27899                          Little Caesar           6.9        63.0   \n",
       "849    23223                            Normal Life           6.8         8.0   \n",
       "8189   97630                       Zero Dark Thirty           6.7      1723.0   \n",
       "915    31556                     He Walked by Night           6.4        17.0   \n",
       "6912    1266                           Street Kings           6.3       369.0   \n",
       "8533  193610                        The Other Woman           6.2      1467.0   \n",
       "4975   12708                     That Touch of Mink           6.2        38.0   \n",
       "6218    9315                             Flightplan           6.1       796.0   \n",
       "8278  134374                            Pain & Gain           6.1      1595.0   \n",
       "56     11359             The Indian in the Cupboard           5.9       136.0   \n",
       "2070   49981                          Goodbye Lover           5.8        11.0   \n",
       "411     4916                          Guilty as Sin           5.6        21.0   \n",
       "7647   87387  The Agony and Ecstasy of Phil Spector           5.6         4.0   \n",
       "2859    1058                             Breathless           5.6        67.0   \n",
       "4500    6524                            Life Stinks           5.5        48.0   \n",
       "5132    2122                    The Whole Ten Yards           5.5       282.0   \n",
       "1789   30815                        Mortal Thoughts           5.3        43.0   \n",
       "8287   82501                 The Woman in the Fifth           5.0        29.0   \n",
       "8975  301228                             Narcopolis           4.8        34.0   \n",
       "3716   40508                    3 Ninjas Knuckle Up           4.2        32.0   \n",
       "\n",
       "                director          genre  \n",
       "4745      [michaelapted]  [documentary]  \n",
       "874    [alfredhitchcock]        [crime]  \n",
       "3814    [jean-lucgodard]        [drama]  \n",
       "3034     [ottopreminger]        [crime]  \n",
       "2460       [sidneylumet]        [drama]  \n",
       "5676      [williamwyler]        [crime]  \n",
       "2005      [robertaltman]     [thriller]  \n",
       "2351    [prestonsturges]       [comedy]  \n",
       "5887      [joeberlinger]  [documentary]  \n",
       "5056       [delmerdaves]        [crime]  \n",
       "3749      [blakeedwards]       [action]  \n",
       "5657       [mervynleroy]        [drama]  \n",
       "849     [johnmcnaughton]        [crime]  \n",
       "8189    [kathrynbigelow]     [thriller]  \n",
       "915        [anthonymann]        [drama]  \n",
       "6912         [davidayer]       [action]  \n",
       "8533    [nickcassavetes]       [comedy]  \n",
       "4975       [delbertmann]       [comedy]  \n",
       "6218   [robertschwentke]     [thriller]  \n",
       "8278        [michaelbay]     [thriller]  \n",
       "56             [frankoz]    [adventure]  \n",
       "2070       [rolandjoffé]     [thriller]  \n",
       "411        [sidneylumet]        [drama]  \n",
       "7647     [vikramjayanti]  [documentary]  \n",
       "2859        [jimmcbride]       [action]  \n",
       "4500         [melbrooks]       [comedy]  \n",
       "5132      [howarddeutch]       [comedy]  \n",
       "1789       [alanrudolph]      [mystery]  \n",
       "8287  [pawełpawlikowski]     [thriller]  \n",
       "8975   [justintrefgarne]     [thriller]  \n",
       "3716       [shinsang-ok]    [adventure]  "
      ]
     },
     "execution_count": 19,
     "metadata": {},
     "output_type": "execute_result"
    }
   ],
   "source": [
    "get_recommendations('Rustom',smf)"
   ]
  },
  {
   "cell_type": "markdown",
   "metadata": {},
   "source": [
    "## Collaborative Filtering"
   ]
  },
  {
   "cell_type": "code",
   "execution_count": null,
   "metadata": {
    "scrolled": true
   },
   "outputs": [
    {
     "data": {
      "text/html": [
       "<div>\n",
       "<style scoped>\n",
       "    .dataframe tbody tr th:only-of-type {\n",
       "        vertical-align: middle;\n",
       "    }\n",
       "\n",
       "    .dataframe tbody tr th {\n",
       "        vertical-align: top;\n",
       "    }\n",
       "\n",
       "    .dataframe thead th {\n",
       "        text-align: right;\n",
       "    }\n",
       "</style>\n",
       "<table border=\"1\" class=\"dataframe\">\n",
       "  <thead>\n",
       "    <tr style=\"text-align: right;\">\n",
       "      <th></th>\n",
       "      <th>userId</th>\n",
       "      <th>movieId</th>\n",
       "      <th>rating</th>\n",
       "      <th>timestamp</th>\n",
       "    </tr>\n",
       "  </thead>\n",
       "  <tbody>\n",
       "    <tr>\n",
       "      <th>0</th>\n",
       "      <td>1</td>\n",
       "      <td>110</td>\n",
       "      <td>1.0</td>\n",
       "      <td>1425941529</td>\n",
       "    </tr>\n",
       "    <tr>\n",
       "      <th>1</th>\n",
       "      <td>1</td>\n",
       "      <td>147</td>\n",
       "      <td>4.5</td>\n",
       "      <td>1425942435</td>\n",
       "    </tr>\n",
       "    <tr>\n",
       "      <th>2</th>\n",
       "      <td>1</td>\n",
       "      <td>858</td>\n",
       "      <td>5.0</td>\n",
       "      <td>1425941523</td>\n",
       "    </tr>\n",
       "    <tr>\n",
       "      <th>3</th>\n",
       "      <td>1</td>\n",
       "      <td>1221</td>\n",
       "      <td>5.0</td>\n",
       "      <td>1425941546</td>\n",
       "    </tr>\n",
       "    <tr>\n",
       "      <th>4</th>\n",
       "      <td>1</td>\n",
       "      <td>1246</td>\n",
       "      <td>5.0</td>\n",
       "      <td>1425941556</td>\n",
       "    </tr>\n",
       "    <tr>\n",
       "      <th>...</th>\n",
       "      <td>...</td>\n",
       "      <td>...</td>\n",
       "      <td>...</td>\n",
       "      <td>...</td>\n",
       "    </tr>\n",
       "    <tr>\n",
       "      <th>26024284</th>\n",
       "      <td>270896</td>\n",
       "      <td>58559</td>\n",
       "      <td>5.0</td>\n",
       "      <td>1257031564</td>\n",
       "    </tr>\n",
       "    <tr>\n",
       "      <th>26024285</th>\n",
       "      <td>270896</td>\n",
       "      <td>60069</td>\n",
       "      <td>5.0</td>\n",
       "      <td>1257032032</td>\n",
       "    </tr>\n",
       "    <tr>\n",
       "      <th>26024286</th>\n",
       "      <td>270896</td>\n",
       "      <td>63082</td>\n",
       "      <td>4.5</td>\n",
       "      <td>1257031764</td>\n",
       "    </tr>\n",
       "    <tr>\n",
       "      <th>26024287</th>\n",
       "      <td>270896</td>\n",
       "      <td>64957</td>\n",
       "      <td>4.5</td>\n",
       "      <td>1257033990</td>\n",
       "    </tr>\n",
       "    <tr>\n",
       "      <th>26024288</th>\n",
       "      <td>270896</td>\n",
       "      <td>71878</td>\n",
       "      <td>2.0</td>\n",
       "      <td>1257031858</td>\n",
       "    </tr>\n",
       "  </tbody>\n",
       "</table>\n",
       "<p>26024289 rows × 4 columns</p>\n",
       "</div>"
      ],
      "text/plain": [
       "          userId  movieId  rating   timestamp\n",
       "0              1      110     1.0  1425941529\n",
       "1              1      147     4.5  1425942435\n",
       "2              1      858     5.0  1425941523\n",
       "3              1     1221     5.0  1425941546\n",
       "4              1     1246     5.0  1425941556\n",
       "...          ...      ...     ...         ...\n",
       "26024284  270896    58559     5.0  1257031564\n",
       "26024285  270896    60069     5.0  1257032032\n",
       "26024286  270896    63082     4.5  1257031764\n",
       "26024287  270896    64957     4.5  1257033990\n",
       "26024288  270896    71878     2.0  1257031858\n",
       "\n",
       "[26024289 rows x 4 columns]"
      ]
     },
     "metadata": {},
     "output_type": "display_data"
    },
    {
     "name": "stdout",
     "output_type": "stream",
     "text": [
      "45115\n"
     ]
    }
   ],
   "source": [
    "count=0\n",
    "display(rf)\n",
    "print(len(rf['movieId'].unique()))\n",
    "for mov in rf['movieId'].unique():\n",
    "    for movie in smf['id'].unique():\n",
    "        if(movie==mov):\n",
    "            count+=1\n",
    "print(count)\n",
    "display(rf['movieId'].nunique())"
   ]
  },
  {
   "cell_type": "code",
   "execution_count": null,
   "metadata": {},
   "outputs": [],
   "source": [
    "# mr=pd.DataFrame(columns =['movieId', 'ratings'], index = [x for x in range(len(rsf['movieId'].unique())-1)])\n",
    "# i=0\n",
    "# for mov in rsf['movieId'].unique():\n",
    "#     mr['movieId'][i]=mov\n",
    "#     mr['ratings'][i]=len(rsf.loc[rsf['movieId']==mov])\n",
    "#     i+=1\n",
    "# print(mr['ratings'].max())\n"
   ]
  },
  {
   "cell_type": "code",
   "execution_count": null,
   "metadata": {},
   "outputs": [],
   "source": [
    "tsmf = smf['id']\n",
    "print(len(tsmf.unique()))\n",
    "rf = rf[rf['movieId'].isin(tsmf)]\n",
    "rf.shape\n",
    "print(len(rf['movieId'].unique()))\n",
    "rf.info()\n"
   ]
  },
  {
   "cell_type": "code",
   "execution_count": null,
   "metadata": {},
   "outputs": [],
   "source": [
    "movie_ratings=pd.DataFrame(columns =['movieId', 'ratings'], index = [x for x in range(len(rf['movieId'].unique())-1)])\n",
    "i=0\n",
    "for mov in rf['movieId'].unique():\n",
    "    movie_ratings['movieId'][i]=mov\n",
    "    movie_ratings['ratings'][i]=len(rf.loc[rf['movieId']==mov])\n",
    "    i+=1\n",
    "    \n",
    "movie_ratings=movie_ratings[movie_ratings['ratings']>20]\n",
    "display(movie_ratings)"
   ]
  },
  {
   "cell_type": "code",
   "execution_count": null,
   "metadata": {},
   "outputs": [],
   "source": [
    "col_movie_ratings=movie_ratings['movieId']\n",
    "rf = rf[rf['movieId'].isin(col_movie_ratings)]\n",
    "rf=rf[rf['userId']<10000]\n",
    "movie_ratings=movie_ratings[movie_ratings['movieId'].isin(rf['movieId'])]\n",
    "display(rf)"
   ]
  },
  {
   "cell_type": "code",
   "execution_count": null,
   "metadata": {},
   "outputs": [],
   "source": [
    "u_m_matrix = rf.pivot(\n",
    "    index='userId',\n",
    "    columns='movieId',\n",
    "    values='rating'\n",
    ")\n",
    "\n",
    "display(u_m_matrix)\n",
    "u_m_df=u_m_matrix.reset_index()\n",
    "for movie in u_m_matrix:\n",
    "    print(movie)"
   ]
  },
  {
   "cell_type": "code",
   "execution_count": null,
   "metadata": {},
   "outputs": [],
   "source": [
    "nu_m_matrix = u_m_matrix.subtract(u_m_matrix.mean(axis=1), axis= 0)\n",
    "display(nu_m_matrix)"
   ]
  },
  {
   "cell_type": "code",
   "execution_count": null,
   "metadata": {},
   "outputs": [],
   "source": [
    "similarity=nu_m_matrix.T.corr()\n",
    "display(similarity[1])"
   ]
  },
  {
   "cell_type": "code",
   "execution_count": null,
   "metadata": {},
   "outputs": [],
   "source": [
    "similar_users= similarity[similarity[1] >0.3][1].sort_values(ascending= False)[:]\n",
    "   # return similar_user\n",
    "display(similar_users)\n",
    "su_df=similar_users.reset_index()\n",
    "su_df['similarity']=su_df[1]\n",
    "su_df.drop(1,axis=1,inplace=True)\n",
    "display(su_df)\n",
    "for movie in u_m_matrix:\n",
    "    su_df[movie]=u_m_df[u_m_df['userId'].isin(su_df['userId'])][movie]\n",
    "su_df.fillna(0, inplace= True)\n",
    "su_df.drop(index=0,axis=0,inplace= True)\n",
    "display(su_df)\n",
    "\n"
   ]
  },
  {
   "cell_type": "code",
   "execution_count": null,
   "metadata": {},
   "outputs": [],
   "source": [
    "def getrating(target_user):\n",
    "    iumdf=u_m_df.loc[u_m_df['userId']==target_user]\n",
    "    similar_users= similarity[similarity[target_user]>0.3][target_user].sort_values(ascending= False)[:]\n",
    "    su_df=similar_users.reset_index()\n",
    "    su_df['similarity']=su_df[target_user]\n",
    "    su_df.drop(target_user,axis=1,inplace=True)\n",
    "    \n",
    "    for movie in u_m_matrix:\n",
    "        su_df[movie]=u_m_df[u_m_df['userId'].isin(su_df['userId'])][movie]*(su_df['similarity'])\n",
    "    su_df.fillna(0, inplace=True)\n",
    "    \n",
    "    for movie in u_m_matrix:\n",
    "        iumdf.fillna(0,inplace= True)\n",
    "        umlist=list(iumdf[movie])\n",
    "        if(umlist[0]==0):\n",
    "            if((su_df[su_df[movie]!=0]['similarity'].sum())!=0):\n",
    "                iumdf[movie]= su_df[movie].sum()/(su_df[su_df[movie]!=0]['similarity'].sum())\n",
    "            else:\n",
    "                iumdf[movie]=0\n",
    "    return iumdf\n",
    "            "
   ]
  },
  {
   "cell_type": "code",
   "execution_count": null,
   "metadata": {},
   "outputs": [],
   "source": [
    "df3 = getrating(5575)\n",
    "display(df3)"
   ]
  },
  {
   "cell_type": "code",
   "execution_count": null,
   "metadata": {},
   "outputs": [],
   "source": [
    "smf = smf[smf[\"id\"].isin(movie_ratings['movieId'])]\n",
    "display(smf[smf['id']==2058]['title'])\n",
    "print(movie_ratings['movieId'].nunique())\n"
   ]
  },
  {
   "cell_type": "code",
   "execution_count": null,
   "metadata": {},
   "outputs": [],
   "source": [
    "df1 = getrating(1)\n",
    "display(movie_ratings)\n",
    "df = get_recommendations('Avatar' , smf)\n",
    "df['user_ratings']=0\n",
    "display(df)\n",
    "i=0\n",
    "print(df['user_ratings'][2058])\n",
    "# for index in df.index:\n",
    "    "
   ]
  },
  {
   "cell_type": "code",
   "execution_count": null,
   "metadata": {},
   "outputs": [],
   "source": [
    "display(df1)"
   ]
  },
  {
   "cell_type": "code",
   "execution_count": null,
   "metadata": {},
   "outputs": [],
   "source": [
    "df['user_ratings'][140]=df1[140]\n",
    "display(df)"
   ]
  },
  {
   "cell_type": "markdown",
   "metadata": {},
   "source": [
    "## Hybrid system"
   ]
  },
  {
   "cell_type": "code",
   "execution_count": null,
   "metadata": {},
   "outputs": [],
   "source": [
    "def user_recommender (user_id,title):\n",
    "    df1 = getrating(user_id)\n",
    "    df = get_recommendations(title , smf)\n",
    "    df['user_ratings']=0\n",
    "    for movie in df['id']:\n",
    "        df['user_ratings'][movie]=df1[movie]\n",
    "    return df"
   ]
  },
  {
   "cell_type": "code",
   "execution_count": null,
   "metadata": {},
   "outputs": [],
   "source": [
    "getrating(1)"
   ]
  },
  {
   "cell_type": "code",
   "execution_count": null,
   "metadata": {},
   "outputs": [],
   "source": [
    "user_recommender(1, 'Avatar')"
   ]
  },
  {
   "cell_type": "code",
   "execution_count": null,
   "metadata": {},
   "outputs": [],
   "source": []
  }
 ],
 "metadata": {
  "kernelspec": {
   "display_name": "Python 3 (ipykernel)",
   "language": "python",
   "name": "python3"
  },
  "language_info": {
   "codemirror_mode": {
    "name": "ipython",
    "version": 3
   },
   "file_extension": ".py",
   "mimetype": "text/x-python",
   "name": "python",
   "nbconvert_exporter": "python",
   "pygments_lexer": "ipython3",
   "version": "3.10.11"
  }
 },
 "nbformat": 4,
 "nbformat_minor": 2
}
